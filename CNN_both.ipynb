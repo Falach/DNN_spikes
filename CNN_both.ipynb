{
 "cells": [
  {
   "cell_type": "code",
   "execution_count": 1,
   "id": "6b4f8828",
   "metadata": {
    "pycharm": {
     "is_executing": true,
     "name": "#%%\n"
    }
   },
   "outputs": [],
   "source": [
    "from tensorflow import keras\n",
    "import numpy as np\n",
    "import matplotlib.pyplot as plt\n",
    "import mne\n",
    "import pandas as pd\n",
    "from sklearn.model_selection import train_test_split\n",
    "from sklearn.metrics import confusion_matrix, ConfusionMatrixDisplay\n",
    "from sklearn.metrics import plot_confusion_matrix\n",
    "from IPython.display import clear_output"
   ]
  },
  {
   "cell_type": "code",
   "execution_count": 2,
   "id": "8664d6b2",
   "metadata": {
    "pycharm": {
     "is_executing": true,
     "name": "#%%\n"
    }
   },
   "outputs": [
    {
     "name": "stdout",
     "output_type": "stream",
     "text": [
      "['/device:CPU:0', '/device:GPU:0']\n"
     ]
    }
   ],
   "source": [
    "# C:\\Users\\Rotem\\AppData\\Local\\Programs\\Python\\Python39\\python.exe -m pip install antropy\n",
    "from tensorflow.python.client import device_lib\n",
    "\n",
    "def get_available_devices():\n",
    "    local_device_protos = device_lib.list_local_devices()\n",
    "    return [x.name for x in local_device_protos]\n",
    "\n",
    "print(get_available_devices())"
   ]
  },
  {
   "cell_type": "code",
   "execution_count": 3,
   "id": "0801b45f",
   "metadata": {
    "pycharm": {
     "name": "#%%\n"
    }
   },
   "outputs": [],
   "source": [
    "sr = 1000\n",
    "edf_path = \"C:\\\\Users\\\\Rotem\\\\Data\\\\%s_for_tag_filtered_fix_tag.edf\"\n",
    "full_edf_path = 'C:\\\\Users\\\\Rotem\\\\Data\\\\P%s_full_filtered.edf'"
   ]
  },
  {
   "cell_type": "markdown",
   "id": "db4fd5f1",
   "metadata": {
    "pycharm": {
     "name": "#%% md\n"
    }
   },
   "source": [
    "### segment Lilach tags to 1 sec intervals"
   ]
  },
  {
   "cell_type": "code",
   "execution_count": 4,
   "id": "013a9f0b",
   "metadata": {
    "pycharm": {
     "name": "#%%\n"
    }
   },
   "outputs": [],
   "source": [
    "def get_metrics(cm):\n",
    "    if len(cm) == 0:\n",
    "        cm = np.zeros((2,2), dtype=int)\n",
    "    if np.squeeze(cm).ndim < 2:\n",
    "        new_cm = np.zeros((2,2), dtype=int)\n",
    "        new_cm[1, 1] = int(cm[0][0])\n",
    "        cm = new_cm\n",
    "    numerator = cm[0, 0] + cm[1, 1]\n",
    "    denominator = cm[0, 0] + cm[1, 1] + cm[0, 1] + cm[1, 0]\n",
    "    accuracy = numerator / denominator\n",
    "    precision = cm[1, 1] / (cm[1, 1] + cm[0, 1])\n",
    "    recall = cm[1, 1] / (cm[1, 1] + cm[1, 0])\n",
    "    numerator = precision * recall\n",
    "    denominator = (0.25 * precision) + recall\n",
    "    f_score = 1.25 * numerator / denominator\n",
    "    return {'accuracy': accuracy, 'precision': precision, 'recall': recall, 'f_score': f_score}\n",
    "\n",
    "# segment Lilach tags to 1 sec intervals\n",
    "def format_raw_spikes(subj, channels): \n",
    "    epochs, epochs_random = [], []\n",
    "    window_size = sr\n",
    "    raw = mne.io.read_raw_edf(edf_path % subj)\n",
    "    spikes = raw.annotations\n",
    "    spikes_df = pd.DataFrame(spikes)\n",
    "    end_onset = list(spikes_df[spikes_df['description'].str.contains('END')]['onset'])[0]\n",
    "    spikes_df = spikes_df[spikes_df['description'].str.contains(channels[0][0] + 't')]\n",
    "    spikes_df = spikes_df.drop_duplicates(subset=['onset'])\n",
    "    complete_spikes_df = spikes_df[spikes_df['onset'] < end_onset]\n",
    "\n",
    "    # from first tags round- only some spikes here and there\n",
    "    random_spikes_df = spikes_df[spikes_df['onset'] > end_onset]\n",
    "    raw_data = raw.copy().pick_channels(channels).resample(sr).get_data()\n",
    "    for onset in random_spikes_df['onset']:\n",
    "        curr_block = raw_data[:, int(onset * sr - window_size / 2) : int (onset * sr + window_size / 2)]\n",
    "        epochs_random.append(curr_block)\n",
    "    y_windows_random = np.full(len(epochs_random), 1)\n",
    "\n",
    "    # from second tags round- complete data\n",
    "    raw_data = raw.crop(tmax=end_onset).pick_channels(channels).resample(sr).get_data()\n",
    "\n",
    "    for i in range(0, raw_data.shape[1], window_size):\n",
    "        curr_block = raw_data[:, i: i  + window_size]\n",
    "        if i + window_size < raw_data.shape[1]:\n",
    "            epochs.append(curr_block)\n",
    "\n",
    "    y_windows = np.zeros(len(epochs))\n",
    "    for onset in complete_spikes_df['onset']:\n",
    "        y_windows[int(onset * 1000 / window_size)] = 1\n",
    "\n",
    "    epochs = np.concatenate((epochs, epochs_random))\n",
    "    y_windows = np.concatenate((y_windows, y_windows_random))\n",
    "    # Normalize per channel\n",
    "    epochs_norm = np.empty(epochs.shape)\n",
    "    for i in range(epochs.shape[1]):\n",
    "        chan_mean = epochs[:, i, :].mean()\n",
    "        chan_std = epochs[:, i, :].std()\n",
    "        epochs_norm[:, i, :] = (epochs[:, i, :] - chan_mean) / chan_std\n",
    "\n",
    "    # np.hstack((epochs_norm, np.arange(epochs_norm.shape[0])))\n",
    "    return epochs_norm, y_windows\n",
    "\n",
    "# Segment the full night data\n",
    "def format_raw_night(subj, channels):\n",
    "    epochs = []\n",
    "    window_size = sr\n",
    "    # check if I need to create bipolar channel\n",
    "    if any('-' in s for s in channels):\n",
    "        chans_for_bi = [s for s in channels if '-' in s][0].split('-')\n",
    "        raw_bi = mne.io.read_raw_edf(full_edf_path % subj).pick_channels(chans_for_bi).resample(sr)\n",
    "        raw_bi = mne.set_bipolar_reference(raw_bi, chans_for_bi[0], chans_for_bi[1], \n",
    "                                            ch_name=f'{chans_for_bi[0]}-{chans_for_bi[1]}', drop_refs=True)\n",
    "        # Get the other channels and concat\n",
    "        non_bi_chans = [x for x in channels if '-' not in x]\n",
    "        raw = mne.io.read_raw_edf(full_edf_path % subj).pick_channels(non_bi_chans).resample(sr)\n",
    "        raw.add_channels([raw_bi], force_update_info=True)\n",
    "        raw_data = raw.get_data()\n",
    "    else:\n",
    "        raw_data = mne.io.read_raw_edf(full_edf_path % subj).pick_channels([channel]).resample(sr).get_data()\n",
    "    \n",
    "    for i in range(0, raw_data.shape[1], window_size):\n",
    "        curr_block = raw_data[:, i: i  + window_size]\n",
    "        if i + window_size < raw_data.shape[1]:\n",
    "            epochs.append(curr_block)\n",
    "    \n",
    "    # Normalize per channel\n",
    "    epochs = np.array(epochs)\n",
    "    epochs_norm = np.empty(epochs.shape)\n",
    "    for i in range(epochs.shape[1]):\n",
    "        chan_mean = epochs[:, i, :].mean()\n",
    "        chan_std = epochs[:, i, :].std()\n",
    "        epochs_norm[:, i, :] = (epochs[:, i, :] - chan_mean) / chan_std\n",
    "    \n",
    "    return np.array(epochs_norm)\n",
    "\n",
    "def predict_all_y(subjects=['38', '396', '398', '402', '406', '415', '416']):\n",
    "    # neighbors = {'R': ['RAH1-RAH2', 'RA1'], 'L': ['LAH1-LAH2', 'LA1']}\n",
    "    side1_y = None\n",
    "    y_all = np.empty(0)\n",
    "    for subj in subjects:\n",
    "        # for subj in ['398']:\n",
    "        for channel in [['RAH1', 'RA1', 'RAH1-RAH2'],['LAH1', 'LA1', 'LAH1-LAH2']]:\n",
    "            if not ((subj == '396' and channel[0] == 'RAH1') or (subj == '38' and channel[0] == 'LAH1')):\n",
    "                x = format_raw_night(subj, channel)\n",
    "\n",
    "                # Here I have all features for one side\n",
    "                if side1_y is None:\n",
    "                    side1_y = model.predict(x)\n",
    "                    side1_y =  np.array([1 if p > 0.5 else 0 for p in side1_y.T[1]])\n",
    "\n",
    "        if subj in ['38', '396']:\n",
    "            y_all = np.concatenate((y_all, side1_y))\n",
    "        else:\n",
    "            side2_y = model.predict(x)\n",
    "            side2_y = np.array([1 if p > 0.5 else 0 for p in side2_y.T[1]])\n",
    "            y_bilateral = side1_y + side2_y\n",
    "            y_bilateral[y_bilateral == 2] = 1\n",
    "            y_all = np.concatenate((y_all, y_bilateral))\n",
    "\n",
    "        side1_y = None\n",
    "\n",
    "    return y_all\n",
    "\n",
    "def format_combine_channel(edf, chans=['PZ' ,'C3' ,'C4']):\n",
    "    epochs = []\n",
    "    window_size = sr\n",
    "\n",
    "    raw = mne.io.read_raw_edf(edf).pick_channels(chans).resample(sr)\n",
    "    raw = mne.channels.combine_channels(raw, {'avg': [0, 1, 2]}, method='mean')\n",
    "    raw_data = raw.get_data()\n",
    "\n",
    "    for i in range(0, len(raw_data[0]), window_size):\n",
    "        curr_block = raw_data[:, i: i  + window_size].T\n",
    "        if i + window_size < len(raw_data[0]):\n",
    "            epochs.append(curr_block)\n",
    "    return np.array(epochs)\n",
    "\n",
    "def get_all_feat_avg_channels(subjects=['38', '396', '398', '402', '406', '415', '416']):\n",
    "    x_all = np.empty((0, sr, 1))\n",
    "    for subj in subjects:\n",
    "        x = format_combine_channel(full_edf_path % subj)\n",
    "        x_all = np.concatenate([x_all, x], axis=0)\n",
    "\n",
    "    return x_all\n",
    "\n",
    "def get_all_feat_eog(eog_num, subjects=['38', '396', '398', '402', '406', '415', '416']):\n",
    "    x_all = np.empty((0, 1, sr))\n",
    "    window_size = sr\n",
    "    for subj in subjects:\n",
    "        epochs = []\n",
    "        raw_data = mne.io.read_raw_edf(full_edf_path % subj).pick_channels(['EOG' + eog_num]).resample(sr).get_data()\n",
    "\n",
    "        for i in range(0, raw_data.shape[1], window_size):\n",
    "            curr_block = raw_data[:, i: i  + window_size]\n",
    "            if i + window_size < raw_data.shape[1]:\n",
    "                epochs.append(curr_block)\n",
    "    \n",
    "        epochs = np.array(epochs)\n",
    "        subj_mean = epochs.mean()\n",
    "        subj_std = epochs.std()\n",
    "        final_epochs = (epochs - subj_mean) / subj_std \n",
    "        x_all = np.concatenate([x_all, final_epochs], axis=0)\n",
    "\n",
    "    return x_all\n",
    "\n",
    "# def plt_cls():\n",
    "#     X_train, X_test, y_train, y_test = train_test_split(feat, y, stratify=y, random_state=20)\n",
    "#     cf_matrix = confusion_matrix(y_test, [p > 0.5 for p in y_pred.T[1]])\n",
    "#     metrics = get_metrics(cf_matrix)\n",
    "#     disp = ConfusionMatrixDisplay(cf_matrix)\n",
    "#     f, axes = plt.subplots(1, 1, figsize=(10, 5), sharey='row')\n",
    "#     disp.plot(ax=axes, xticks_rotation=45)\n",
    "#     text = \"\"\"precision: {0}\n",
    "#             recall: {1}\"\"\".format(str('{0:.2f}'.format(metrics['precision'])), str('{0:.2f}'.format(metrics['recall'])))\n",
    "#     axes.annotate(text, xy=(1, 0), xycoords='axes fraction', fontsize=16,\n",
    "#             xytext=(-60, -40), textcoords='offset points',\n",
    "#             ha='right', va='top')\n",
    "#     disp.im_.colorbar.remove()\n",
    "#     disp.ax_.set_xlabel('')\n",
    "\n",
    "# f.text(0.45, 0.1, 'Predicted label', ha='left')"
   ]
  },
  {
   "cell_type": "code",
   "execution_count": 5,
   "id": "6e480712",
   "metadata": {
    "pycharm": {
     "name": "#%%\n"
    }
   },
   "outputs": [],
   "source": [
    "y_all = np.empty(0)\n",
    "x_all = None\n",
    "for subj in ['38', '396', '398', '402', '406', '415', '416']:\n",
    "    for channel in [['RAH1', 'RA1', 'RAH1-RAH2'],['LAH1', 'LA1', 'LAH1-LAH2']]:\n",
    "    # for channel in [['RAH1'],['LAH1']]:\n",
    "        if not ((subj == '396' and channel[0] == 'RAH1') or (subj == '38' and channel[0] == 'LAH1')):\n",
    "            x, y = format_raw_spikes(subj, channel)\n",
    "            y_all = np.concatenate((y_all, y))\n",
    "            if x_all is None:\n",
    "                x_all = x\n",
    "            else:\n",
    "                x_all = np.concatenate((x_all, x))\n",
    "               \n",
    "clear_output()"
   ]
  },
  {
   "cell_type": "code",
   "execution_count": 6,
   "id": "f64a4044",
   "metadata": {
    "pycharm": {
     "name": "#%%\n"
    }
   },
   "outputs": [],
   "source": [
    "# adding a col od epoch id\n",
    "x_with_id = []\n",
    "for i, mat in enumerate(x_all):\n",
    "    curr_df = pd.DataFrame(mat)\n",
    "    curr_df.insert(loc=0, column='epoch_id', value=i)\n",
    "    x_with_id.append(curr_df)\n",
    "\n",
    "x_with_id_np = np.array(x_with_id)"
   ]
  },
  {
   "cell_type": "code",
   "execution_count": 7,
   "id": "9fbcf6e8",
   "metadata": {
    "pycharm": {
     "name": "#%%\n"
    }
   },
   "outputs": [
    {
     "data": {
      "text/plain": [
       "[<matplotlib.lines.Line2D at 0x24e76f43970>]"
      ]
     },
     "execution_count": 7,
     "metadata": {},
     "output_type": "execute_result"
    },
    {
     "data": {
      "image/png": "[encoded data removed]",
      "text/plain": [
       "<Figure size 432x288 with 1 Axes>"
      ]
     },
     "metadata": {
      "needs_background": "light"
     },
     "output_type": "display_data"
    }
   ],
   "source": [
    "plt.plot(np.concatenate(x_with_id_np[:10, 1, 1:]))"
   ]
  },
  {
   "cell_type": "code",
   "execution_count": null,
   "outputs": [],
   "source": [
    "x_train, x_test, y_train, y_test = train_test_split(x_with_id_np, y_all, stratify=y_all, random_state=30)\n",
    "x_train_data = x_train[:, :, 1:]\n",
    "x_train_data_4 = np.expand_dims(x_train_data, axis=3)\n",
    "x_test_data = x_test[:, :, 1:]"
   ],
   "metadata": {
    "collapsed": false,
    "pycharm": {
     "name": "#%%\n"
    }
   }
  },
  {
   "cell_type": "code",
   "execution_count": null,
   "outputs": [],
   "source": [
    "x_train_data.shape"
   ],
   "metadata": {
    "collapsed": false,
    "pycharm": {
     "name": "#%%\n"
    }
   }
  },
  {
   "cell_type": "code",
   "execution_count": null,
   "outputs": [],
   "source": [
    "x_train_data_4.shape"
   ],
   "metadata": {
    "collapsed": false,
    "pycharm": {
     "name": "#%%\n"
    }
   }
  },
  {
   "cell_type": "code",
   "execution_count": null,
   "outputs": [],
   "source": [
    "num_classes = len(np.unique(y_train))"
   ],
   "metadata": {
    "collapsed": false,
    "pycharm": {
     "name": "#%%\n"
    }
   }
  },
  {
   "cell_type": "code",
   "execution_count": null,
   "outputs": [],
   "source": [
    "# idx = np.random.permutation(len(x_train))\n",
    "# x_train = x_train[idx]\n",
    "# y_train = y_train[idx]"
   ],
   "metadata": {
    "collapsed": false,
    "pycharm": {
     "name": "#%%\n"
    }
   }
  },
  {
   "cell_type": "code",
   "execution_count": null,
   "outputs": [],
   "source": [
    "def make_model(input_shape):\n",
    "    input_layer = keras.layers.Input(input_shape)\n",
    "\n",
    "    conv1 = keras.layers.Conv2D(filters=64, kernel_size=(3,50), padding=\"same\", strides=(1, 10), input_shape=input_shape[1:])(input_layer)\n",
    "    conv1 = keras.layers.BatchNormalization()(conv1)\n",
    "    conv1 = keras.layers.MaxPooling2D(pool_size=(3, 20), padding=\"same\", strides=(1, 1))(conv1)\n",
    "    conv1 = keras.layers.ReLU()(conv1)\n",
    "\n",
    "    conv2 = keras.layers.Conv2D(filters=64, kernel_size=(3,50), padding=\"same\", strides=(1, 10), input_shape=input_shape[1:])(conv1)\n",
    "    conv2 = keras.layers.BatchNormalization()(conv2)\n",
    "    conv2 = keras.layers.MaxPooling2D(pool_size=(3, 20), padding=\"same\", strides=(1, 1))(conv2)\n",
    "    conv2 = keras.layers.ReLU()(conv2)\n",
    "\n",
    "    conv3 = keras.layers.Conv2D(filters=64, kernel_size=(3,50), padding=\"same\", strides=(1, 10), input_shape=input_shape[1:])(conv2)\n",
    "    conv3 = keras.layers.BatchNormalization()(conv3)\n",
    "    conv3 = keras.layers.MaxPooling2D(pool_size=(3, 20), padding=\"same\", strides=(1, 1))(conv3)\n",
    "    conv3 = keras.layers.ReLU()(conv3)\n",
    "\n",
    "    gap = keras.layers.GlobalAveragePooling2D()(conv3)\n",
    "\n",
    "    output_layer = keras.layers.Dense(num_classes, activation=\"softmax\")(gap)\n",
    "\n",
    "    return keras.models.Model(inputs=input_layer, outputs=output_layer)\n",
    "\n",
    "def make_scalp_model(input_shape):\n",
    "    input_layer = keras.layers.Input(input_shape)\n",
    "\n",
    "    conv1 = keras.layers.Conv2D(filters=64, kernel_size=(1,50), padding=\"same\", strides=(1, 10), input_shape=input_shape[1:])(input_layer)\n",
    "    conv1 = keras.layers.BatchNormalization()(conv1)\n",
    "    conv1 = keras.layers.MaxPooling2D(pool_size=(1, 20), padding=\"same\", strides=(1, 1))(conv1)\n",
    "    conv1 = keras.layers.ReLU()(conv1)\n",
    "\n",
    "    conv2 = keras.layers.Conv2D(filters=64, kernel_size=(1,50), padding=\"same\", strides=(1, 10), input_shape=input_shape[1:])(conv1)\n",
    "    conv2 = keras.layers.BatchNormalization()(conv2)\n",
    "    conv2 = keras.layers.MaxPooling2D(pool_size=(1, 20), padding=\"same\", strides=(1, 1))(conv2)\n",
    "    conv2 = keras.layers.ReLU()(conv2)\n",
    "\n",
    "    conv3 = keras.layers.Conv2D(filters=64, kernel_size=(1,50), padding=\"same\", strides=(1, 10), input_shape=input_shape[1:])(conv2)\n",
    "    conv3 = keras.layers.BatchNormalization()(conv3)\n",
    "    conv3 = keras.layers.MaxPooling2D(pool_size=(1, 20), padding=\"same\", strides=(1, 1))(conv3)\n",
    "    conv3 = keras.layers.ReLU()(conv3)\n",
    "\n",
    "    gap = keras.layers.GlobalAveragePooling2D()(conv3)\n",
    "\n",
    "    output_layer = keras.layers.Dense(num_classes, activation=\"softmax\")(gap)\n",
    "\n",
    "    return keras.models.Model(inputs=input_layer, outputs=output_layer)\n",
    "\n",
    "model = make_model(input_shape=x_train_data_4.shape[1:])\n",
    "keras.utils.plot_model(model, show_shapes=True)"
   ],
   "metadata": {
    "collapsed": false,
    "pycharm": {
     "name": "#%%\n"
    }
   }
  },
  {
   "cell_type": "code",
   "execution_count": null,
   "outputs": [],
   "source": [
    "epochs = 500\n",
    "batch_size = 32\n",
    "\n",
    "callbacks = [\n",
    "    keras.callbacks.ModelCheckpoint(\n",
    "        \"best_model.h5\", save_best_only=True, monitor=\"val_loss\"\n",
    "    ),\n",
    "    keras.callbacks.ReduceLROnPlateau(\n",
    "        monitor=\"val_loss\", factor=0.5, patience=20, min_lr=0.0001\n",
    "    ),\n",
    "    keras.callbacks.EarlyStopping(monitor=\"val_loss\", patience=50, verbose=1),\n",
    "]\n",
    "model.compile(\n",
    "    optimizer=\"adam\",\n",
    "    loss=\"sparse_categorical_crossentropy\",\n",
    "    metrics=[\"sparse_categorical_accuracy\"],\n",
    ")\n",
    "history = model.fit(\n",
    "    x_train_data_4,\n",
    "    y_train,\n",
    "    batch_size=batch_size,\n",
    "    epochs=epochs,\n",
    "    callbacks=callbacks,\n",
    "    validation_split=0.2,\n",
    "    verbose=1,\n",
    ")"
   ],
   "metadata": {
    "collapsed": false,
    "pycharm": {
     "name": "#%%\n"
    }
   }
  },
  {
   "cell_type": "code",
   "execution_count": null,
   "outputs": [],
   "source": [
    "model = keras.models.load_model(\"best_model.h5\")\n",
    "\n",
    "test_loss, test_acc = model.evaluate(x_test_data, y_test)\n",
    "\n",
    "print(\"Test accuracy\", test_acc)\n",
    "print(\"Test loss\", test_loss)"
   ],
   "metadata": {
    "collapsed": false,
    "pycharm": {
     "name": "#%%\n"
    }
   }
  },
  {
   "cell_type": "code",
   "execution_count": null,
   "outputs": [],
   "source": [
    "metric = \"sparse_categorical_accuracy\"\n",
    "plt.figure()\n",
    "plt.plot(history.history[metric])\n",
    "plt.plot(history.history[\"val_\" + metric])\n",
    "plt.title(\"model \" + metric)\n",
    "plt.ylabel(metric, fontsize=\"large\")\n",
    "plt.xlabel(\"epoch\", fontsize=\"large\")\n",
    "plt.legend([\"train\", \"val\"], loc=\"best\")\n",
    "plt.show()\n",
    "plt.close()"
   ],
   "metadata": {
    "collapsed": false,
    "pycharm": {
     "name": "#%%\n"
    }
   }
  },
  {
   "cell_type": "code",
   "execution_count": null,
   "outputs": [],
   "source": [
    "y_pred = model.predict(x_test_data)"
   ],
   "metadata": {
    "collapsed": false,
    "pycharm": {
     "name": "#%%\n"
    }
   }
  },
  {
   "cell_type": "code",
   "execution_count": null,
   "outputs": [],
   "source": [
    "# cf_matrix = confusion_matrix(y_test, [p > 0.80 for p in y_pred[1]])\n",
    "cf_matrix = confusion_matrix(y_test, [p > 0.5 for p in y_pred.T[1]])\n",
    "metrics = get_metrics(cf_matrix)\n",
    "disp = ConfusionMatrixDisplay(cf_matrix)\n",
    "f, axes = plt.subplots(1, 1, figsize=(10, 5), sharey='row')\n",
    "disp.plot(ax=axes, xticks_rotation=45)\n",
    "text = \"\"\"precision: {0}\n",
    "          recall: {1}\"\"\".format(str('{0:.2f}'.format(metrics['precision'])), str('{0:.2f}'.format(metrics['recall'])))\n",
    "axes.annotate(text, xy=(1, 0), xycoords='axes fraction', fontsize=16,\n",
    "            xytext=(-60, -40), textcoords='offset points',\n",
    "            ha='right', va='top')\n",
    "disp.im_.colorbar.remove()\n",
    "disp.ax_.set_xlabel('')\n",
    "\n",
    "f.text(0.45, 0.1, 'Predicted label', ha='left')"
   ],
   "metadata": {
    "collapsed": false,
    "pycharm": {
     "name": "#%%\n"
    }
   }
  },
  {
   "cell_type": "code",
   "execution_count": null,
   "outputs": [],
   "source": [
    "# # all test predictions\n",
    "# x_test_reshape = x_test.reshape(x_test.shape[0], x_test.shape[1])\n",
    "# i_pred = np.where(y_pred.T[1]>0.5)\n",
    "# for i in i_pred[0]:\n",
    "#     plt.figure()\n",
    "#     plt.title(i)    \n",
    "#     pred_view = np.concatenate(x_test_reshape[i - 4: i + 5])\n",
    "#     plt.plot(pred_view)\n",
    "#     plt.plot(range(4000, 5000), x_test_reshape[i], c='red')"
   ],
   "metadata": {
    "collapsed": false,
    "pycharm": {
     "name": "#%%\n"
    }
   }
  },
  {
   "cell_type": "code",
   "execution_count": null,
   "outputs": [],
   "source": [
    "# True positives\n",
    "i_pred = np.where(y_pred.T[1]>0.5)\n",
    "true_pos = [i for i in y_test.nonzero()[0] if i in i_pred[0]]\n",
    "for i in true_pos[:15]:\n",
    "    epoch_id = int(x_test[i][0][0])\n",
    "    plt.figure()\n",
    "    plt.title(epoch_id)    \n",
    "    pred_view = np.concatenate(x_all[epoch_id - 4: epoch_id + 5, 0, :])\n",
    "    plt.plot(pred_view)\n",
    "    plt.plot(range(4000, 5000), x_all[epoch_id, 0, :], c='red')"
   ],
   "metadata": {
    "collapsed": false,
    "pycharm": {
     "name": "#%%\n"
    }
   }
  },
  {
   "cell_type": "code",
   "execution_count": null,
   "outputs": [],
   "source": [
    "# False positive\n",
    "false_pos = [i for i in i_pred[0] if i not in y_test.nonzero()[0]]\n",
    "for i in false_pos:\n",
    "    epoch_id = int(x_test[i][0][0])\n",
    "    plt.figure()\n",
    "    plt.title(epoch_id)    \n",
    "    pred_view = np.concatenate(x_all[epoch_id - 4: epoch_id + 5, 0, :])\n",
    "    plt.plot(pred_view)\n",
    "    plt.plot(range(4000, 5000), x_all[epoch_id, 0, :], c='red')"
   ],
   "metadata": {
    "collapsed": false,
    "pycharm": {
     "name": "#%%\n"
    }
   }
  },
  {
   "cell_type": "code",
   "execution_count": null,
   "outputs": [],
   "source": [
    "# False negative (miss)\n",
    "missed = [i for i in y_test.nonzero()[0] if i not in i_pred[0]]\n",
    "for i in missed:\n",
    "    epoch_id = int(x_test[i][0][0])\n",
    "    plt.figure()\n",
    "    plt.title(epoch_id)    \n",
    "    pred_view = np.concatenate(x_all[epoch_id - 4: epoch_id + 5, 0, :])\n",
    "    plt.plot(pred_view)\n",
    "    plt.plot(range(4000, 5000), x_all[epoch_id, 0, :], c='red')"
   ],
   "metadata": {
    "collapsed": false,
    "pycharm": {
     "name": "#%%\n"
    }
   }
  },
  {
   "cell_type": "code",
   "execution_count": null,
   "outputs": [],
   "source": [
    "# Train data\n",
    "x_train_reshape = x_train.reshape(x_train.shape[0], x_train.shape[1])\n",
    "for i in y_train.nonzero()[0][20:30]:\n",
    "    plt.figure()\n",
    "    plt.title(i)\n",
    "    pred_view = np.concatenate(x_train_reshape[i - 4: i + 5])\n",
    "    plt.plot(pred_view)\n",
    "    plt.plot(range(4000, 5000), x_train_reshape[i], c='red')"
   ],
   "metadata": {
    "collapsed": false,
    "pycharm": {
     "name": "#%%\n"
    }
   }
  },
  {
   "cell_type": "code",
   "execution_count": null,
   "outputs": [],
   "source": [
    "x_train_reshape.shape"
   ],
   "metadata": {
    "collapsed": false,
    "pycharm": {
     "name": "#%%\n"
    }
   }
  },
  {
   "cell_type": "code",
   "execution_count": null,
   "outputs": [],
   "source": [
    "y_train.nonzero()[0]"
   ],
   "metadata": {
    "collapsed": false,
    "pycharm": {
     "name": "#%%\n"
    }
   }
  },
  {
   "cell_type": "markdown",
   "source": [
    "### Scalp!"
   ],
   "metadata": {
    "collapsed": false,
    "pycharm": {
     "name": "#%% md\n"
    }
   }
  },
  {
   "cell_type": "code",
   "execution_count": null,
   "outputs": [],
   "source": [
    "# run all subj (~15min, 7 subj)\n",
    "y_all_bi = predict_all_y()\n",
    "clear_output()\n",
    "# avg_channel = get_all_feat_avg_channels()\n",
    "# all_eog2 = get_all_feat_eog('2')\n",
    "# clear_output()\n",
    "\n",
    "# cls_all, pred_details = plt_cls(feat_pz, y_all_bi, stratify=True)"
   ],
   "metadata": {
    "collapsed": false,
    "pycharm": {
     "name": "#%%\n"
    }
   }
  },
  {
   "cell_type": "code",
   "execution_count": null,
   "outputs": [],
   "source": [
    "avg_channel = get_all_feat_avg_channels()\n",
    "clear_output()"
   ],
   "metadata": {
    "collapsed": false,
    "pycharm": {
     "name": "#%%\n"
    }
   }
  },
  {
   "cell_type": "code",
   "execution_count": null,
   "outputs": [],
   "source": [
    "all_eog2 = get_all_feat_eog('2')\n",
    "clear_output()"
   ],
   "metadata": {
    "collapsed": false,
    "pycharm": {
     "name": "#%%\n"
    }
   }
  },
  {
   "cell_type": "code",
   "execution_count": null,
   "outputs": [],
   "source": [
    "# adding a col of epoch id\n",
    "eog_with_id = []\n",
    "for i, mat in enumerate(all_eog2):\n",
    "    curr_df = pd.DataFrame(mat)\n",
    "    curr_df.insert(loc=0, column='epoch_id', value=i)\n",
    "    eog_with_id.append(curr_df)\n",
    "\n",
    "eog_with_id_np = np.array(eog_with_id)"
   ],
   "metadata": {
    "collapsed": false,
    "pycharm": {
     "name": "#%%\n"
    }
   }
  },
  {
   "cell_type": "code",
   "execution_count": null,
   "outputs": [],
   "source": [
    "x_train_scalp, x_test_scalp, y_train_scalp, y_test_scalp = train_test_split(eog_with_id_np, y_all_bi, stratify=y_all_bi, random_state=30)\n",
    "x_train_scalp_data = x_train_scalp[:, :, 1:]\n",
    "x_train_scalp_data_4 = np.expand_dims(x_train_scalp_data, axis=3)\n",
    "x_test_scalp_data = x_test_scalp[:, :, 1:]\n",
    "# x_train_scalp, x_test_scalp, y_train_scalp, y_test_scalp = train_test_split(avg_channel, y_all_bi, stratify=y_all_bi, random_state=30)"
   ],
   "metadata": {
    "collapsed": false,
    "pycharm": {
     "name": "#%%\n"
    }
   }
  },
  {
   "cell_type": "code",
   "execution_count": null,
   "outputs": [],
   "source": [
    "x_train_scalp_data_4.shape"
   ],
   "metadata": {
    "collapsed": false,
    "pycharm": {
     "name": "#%%\n"
    }
   }
  },
  {
   "cell_type": "code",
   "execution_count": null,
   "outputs": [],
   "source": [
    "plt.plot(np.concatenate(all_eog2[:10, 0, :]))"
   ],
   "metadata": {
    "collapsed": false,
    "pycharm": {
     "name": "#%%\n"
    }
   }
  },
  {
   "cell_type": "code",
   "execution_count": null,
   "outputs": [],
   "source": [
    "scalp_model = make_scalp_model(input_shape=x_train_scalp_data_4.shape[1:])\n",
    "keras.utils.plot_model(scalp_model, show_shapes=True)"
   ],
   "metadata": {
    "collapsed": false,
    "pycharm": {
     "name": "#%%\n"
    }
   }
  },
  {
   "cell_type": "code",
   "execution_count": null,
   "outputs": [],
   "source": [
    "epochs = 500\n",
    "batch_size = 32\n",
    "\n",
    "callbacks = [\n",
    "    keras.callbacks.ModelCheckpoint(\n",
    "        \"best_scalp.h5\", save_best_only=True, monitor=\"val_loss\"\n",
    "    ),\n",
    "    keras.callbacks.ReduceLROnPlateau(\n",
    "        monitor=\"val_loss\", factor=0.5, patience=20, min_lr=0.0001\n",
    "    ),\n",
    "    keras.callbacks.EarlyStopping(monitor=\"val_loss\", patience=50, verbose=1),\n",
    "]\n",
    "scalp_model.compile(\n",
    "    optimizer=\"adam\",\n",
    "    loss=\"sparse_categorical_crossentropy\",\n",
    "    metrics=[\"sparse_categorical_accuracy\"],\n",
    ")\n",
    "history = scalp_model.fit(\n",
    "    x_train_scalp_data_4,\n",
    "    y_train_scalp,\n",
    "    batch_size=batch_size,\n",
    "    epochs=epochs,\n",
    "    callbacks=callbacks,\n",
    "    validation_split=0.2,\n",
    "    verbose=1,\n",
    ")"
   ],
   "metadata": {
    "collapsed": false,
    "pycharm": {
     "name": "#%%\n"
    }
   }
  },
  {
   "cell_type": "code",
   "execution_count": null,
   "id": "f1586925",
   "metadata": {
    "pycharm": {
     "name": "#%%\n"
    }
   },
   "outputs": [],
   "source": []
  }
 ],
 "metadata": {
  "kernelspec": {
   "display_name": "Python 3 (ipykernel)",
   "language": "python",
   "name": "python3"
  },
  "language_info": {
   "codemirror_mode": {
    "name": "ipython",
    "version": 3
   },
   "file_extension": ".py",
   "mimetype": "text/x-python",
   "name": "python",
   "nbconvert_exporter": "python",
   "pygments_lexer": "ipython3",
   "version": "3.9.7"
  }
 },
 "nbformat": 4,
 "nbformat_minor": 5
}